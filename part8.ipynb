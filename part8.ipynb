{
  "nbformat": 4,
  "nbformat_minor": 0,
  "metadata": {
    "colab": {
      "name": "part8.ipynb",
      "provenance": [],
      "authorship_tag": "ABX9TyNDDhjVe2J6JpGS+r9/68Lt",
      "include_colab_link": true
    },
    "kernelspec": {
      "name": "python3",
      "display_name": "Python 3"
    },
    "language_info": {
      "name": "python"
    }
  },
  "cells": [
    {
      "cell_type": "markdown",
      "metadata": {
        "id": "view-in-github",
        "colab_type": "text"
      },
      "source": [
        "<a href=\"https://colab.research.google.com/github/AdvikaDG/myPythonLearning/blob/main/part8.ipynb\" target=\"_parent\"><img src=\"https://colab.research.google.com/assets/colab-badge.svg\" alt=\"Open In Colab\"/></a>"
      ]
    },
    {
      "cell_type": "code",
      "metadata": {
        "colab": {
          "base_uri": "https://localhost:8080/"
        },
        "id": "m_Mo8YxZ-2er",
        "outputId": "5d50dce6-4bc4-46e7-d53e-8b9db63e445d"
      },
      "source": [
        "print(\"base\" + \"ball\")"
      ],
      "execution_count": null,
      "outputs": [
        {
          "output_type": "stream",
          "text": [
            "baseball\n"
          ],
          "name": "stdout"
        }
      ]
    },
    {
      "cell_type": "code",
      "metadata": {
        "colab": {
          "base_uri": "https://localhost:8080/"
        },
        "id": "TdY6WAdOBWBX",
        "outputId": "3fbcdf71-9c8c-48ef-c4c6-2a146d9b0038"
      },
      "source": [
        "frist_name=\"Deepak\"\n",
        "last_name=\"Vishwanth\"\n",
        "print(frist_name+last_name)"
      ],
      "execution_count": null,
      "outputs": [
        {
          "output_type": "stream",
          "text": [
            "DeepakVishwanth\n"
          ],
          "name": "stdout"
        }
      ]
    },
    {
      "cell_type": "code",
      "metadata": {
        "colab": {
          "base_uri": "https://localhost:8080/"
        },
        "id": "fupyHjszDZ6L",
        "outputId": "2066aa9d-daf2-41fb-b985-05e50b23f4dd"
      },
      "source": [
        "full_name=frist_name+last_name\n",
        "print (full_name)"
      ],
      "execution_count": null,
      "outputs": [
        {
          "output_type": "stream",
          "text": [
            "DeepakVishwanth\n"
          ],
          "name": "stdout"
        }
      ]
    }
  ]
}