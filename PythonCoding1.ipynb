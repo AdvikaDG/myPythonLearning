{
  "nbformat": 4,
  "nbformat_minor": 0,
  "metadata": {
    "colab": {
      "name": "PythonCoding1.ipynb",
      "provenance": [],
      "collapsed_sections": [],
      "authorship_tag": "ABX9TyMkfxr1nFX4jO9J86XVzP5x",
      "include_colab_link": true
    },
    "kernelspec": {
      "name": "python3",
      "display_name": "Python 3"
    },
    "language_info": {
      "name": "python"
    }
  },
  "cells": [
    {
      "cell_type": "markdown",
      "metadata": {
        "id": "view-in-github",
        "colab_type": "text"
      },
      "source": [
        "<a href=\"https://colab.research.google.com/github/AdvikaDG/myPythonLearning/blob/main/PythonCoding1.ipynb\" target=\"_parent\"><img src=\"https://colab.research.google.com/assets/colab-badge.svg\" alt=\"Open In Colab\"/></a>"
      ]
    },
    {
      "cell_type": "markdown",
      "metadata": {
        "id": "08h8sRO8jPVO"
      },
      "source": [
        "**Activity1:**\n",
        "\n",
        "Introduce Yourself\n",
        "\n",
        "Use the print() function to introduce yourself to the computer\n",
        "\n",
        "Sample Expected Output:\n",
        "\n",
        "\"Hi! My Name is Advika\"\n"
      ]
    },
    {
      "cell_type": "code",
      "metadata": {
        "colab": {
          "base_uri": "https://localhost:8080/"
        },
        "id": "Z8geAjgsjkkm",
        "outputId": "b9383c98-a806-44d8-e0dc-72645322b490"
      },
      "source": [
        "print (\"Hi! my name is Advika\")"
      ],
      "execution_count": 2,
      "outputs": [
        {
          "output_type": "stream",
          "text": [
            "Hi! my name is Advika\n"
          ],
          "name": "stdout"
        }
      ]
    },
    {
      "cell_type": "markdown",
      "metadata": {
        "id": "oPH71xOYk2vk"
      },
      "source": [
        "Activity 2:\n",
        "\n",
        "Quote a Quote\n",
        "\n",
        "Find a quote online or use one which inspires you or a funny line from your favirite movie. Use the print() function to write it to the console\n",
        "Sample Expected Output:\n",
        "\n",
        "\"You are unique just the way you are.\" - ADGStation\n"
      ]
    },
    {
      "cell_type": "code",
      "metadata": {
        "colab": {
          "base_uri": "https://localhost:8080/"
        },
        "id": "be6r7FKLlhfV",
        "outputId": "1f550820-e2c6-4d85-922a-db55a6675811"
      },
      "source": [
        "print('\"You are unique just the way you are\" - ADGStation')"
      ],
      "execution_count": 9,
      "outputs": [
        {
          "output_type": "stream",
          "text": [
            "\"You are unique just the way you are\" - ADGStation\n"
          ],
          "name": "stdout"
        }
      ]
    },
    {
      "cell_type": "markdown",
      "metadata": {
        "id": "0xg8xAdenzxs"
      },
      "source": [
        "**Activity3:**\n",
        "\n",
        "Using a Variable\n",
        "\n",
        "Let's now use a variable to store the mood you are feeling today. Then we will use an f-string and your variable to output a simple sentence.\n",
        "\n",
        "Sample Expected Output:\n",
        "\n",
        "\"Today, I feel awesome!\"\n"
      ]
    },
    {
      "cell_type": "code",
      "metadata": {
        "colab": {
          "base_uri": "https://localhost:8080/"
        },
        "id": "hyE3XsAGqWcw",
        "outputId": "d1607eb0-b762-45ee-e81c-ec02161bdf56"
      },
      "source": [
        "mood=\"Today, I feel awesome!\"\n",
        "print(f'{mood}')\n"
      ],
      "execution_count": 13,
      "outputs": [
        {
          "output_type": "stream",
          "text": [
            "Today, I feel awesome!\n"
          ],
          "name": "stdout"
        }
      ]
    },
    {
      "cell_type": "markdown",
      "metadata": {
        "id": "VlS62xa2sZHs"
      },
      "source": [
        "**Activity 4**:\n",
        "\n",
        "HAIKU Poetry\n",
        "\n",
        "Have you heard of a haiku? It's a Japanese poetry that has 3 lines. The first and last lines have five syllables, and the second line has 7. \n",
        "\n",
        "Let's try writing a haiku poem and printint it in it's correct form. Here's one I wrote as an example:\n",
        "\n",
        "\n",
        "\n",
        "Neha Praveen loves\n",
        "\n",
        "to read lots of books and code\n",
        "\n",
        "this is so much fun!!"
      ]
    },
    {
      "cell_type": "code",
      "metadata": {
        "colab": {
          "base_uri": "https://localhost:8080/"
        },
        "id": "yZfvCOhDsjVF",
        "outputId": "48d91ad6-97fb-44ee-b25f-280184b991c0"
      },
      "source": [
        "haiku= \"Advika D Gowda loves\\nto learn coding\\nit is so much fun\"\n",
        "print(f'{haiku}')"
      ],
      "execution_count": 15,
      "outputs": [
        {
          "output_type": "stream",
          "text": [
            "Advika D Gowda loves\n",
            "to learn coding\n",
            "it is so much fun\n"
          ],
          "name": "stdout"
        }
      ]
    }
  ]
}