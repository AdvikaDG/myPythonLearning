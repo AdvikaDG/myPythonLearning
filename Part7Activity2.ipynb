{
  "nbformat": 4,
  "nbformat_minor": 0,
  "metadata": {
    "colab": {
      "name": "Untitled1.ipynb",
      "provenance": [],
      "authorship_tag": "ABX9TyM5uHrkZ5LzN6sVOyL2DCbX",
      "include_colab_link": true
    },
    "kernelspec": {
      "name": "python3",
      "display_name": "Python 3"
    },
    "language_info": {
      "name": "python"
    }
  },
  "cells": [
    {
      "cell_type": "markdown",
      "metadata": {
        "id": "view-in-github",
        "colab_type": "text"
      },
      "source": [
        "<a href=\"https://colab.research.google.com/github/AdvikaDG/myPythonLearning/blob/main/Part7Activity2.ipynb\" target=\"_parent\"><img src=\"https://colab.research.google.com/assets/colab-badge.svg\" alt=\"Open In Colab\"/></a>"
      ]
    },
    {
      "cell_type": "markdown",
      "metadata": {
        "id": "pIP5wKwcHGag"
      },
      "source": [
        "Activity 1: How Old Are You?\n",
        "\n",
        "What to Do:\n",
        "1. Create 2 variables (name and age) \n",
        "2. Assign a string with your name to the \"name\" variable\n",
        "3. Assign a math operator (that equals your age) to the \"age\" variable. \n",
        "eg. age = 8 + 2\n",
        "4. Finally, print out a new introduction statement using f-strings and the 2 variables. \n",
        "Sample output: \"Hi! My name is Advika and I am 10 years old!\""
      ]
    },
    {
      "cell_type": "code",
      "metadata": {
        "id": "1zH0vfWvHFX7"
      },
      "source": [
        ""
      ],
      "execution_count": null,
      "outputs": []
    }
  ]
}